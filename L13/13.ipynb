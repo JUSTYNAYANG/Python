{
 "cells": [
  {
   "cell_type": "code",
   "execution_count": 5,
   "id": "8a9d820b",
   "metadata": {},
   "outputs": [],
   "source": [
    "def is_in_list(a_list, element):\n",
    "    for element in a_list:\n",
    "        print(element)"
   ]
  },
  {
   "cell_type": "code",
   "execution_count": 6,
   "id": "8efcd924",
   "metadata": {},
   "outputs": [],
   "source": [
    "e = [1,2,6,34,73,67,987,342,908]"
   ]
  },
  {
   "cell_type": "code",
   "execution_count": 7,
   "id": "b7ebdc33",
   "metadata": {},
   "outputs": [
    {
     "name": "stdout",
     "output_type": "stream",
     "text": [
      "1\n",
      "2\n",
      "6\n",
      "34\n",
      "73\n",
      "67\n",
      "987\n",
      "342\n",
      "908\n"
     ]
    }
   ],
   "source": [
    "is_in_list(e, 1)"
   ]
  },
  {
   "cell_type": "code",
   "execution_count": null,
   "id": "1ee98fd8",
   "metadata": {},
   "outputs": [],
   "source": []
  }
 ],
 "metadata": {
  "kernelspec": {
   "display_name": "Python 3",
   "language": "python",
   "name": "python3"
  },
  "language_info": {
   "codemirror_mode": {
    "name": "ipython",
    "version": 3
   },
   "file_extension": ".py",
   "mimetype": "text/x-python",
   "name": "python",
   "nbconvert_exporter": "python",
   "pygments_lexer": "ipython3",
   "version": "3.8.8"
  }
 },
 "nbformat": 4,
 "nbformat_minor": 5
}
