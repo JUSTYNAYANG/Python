{
 "cells": [
  {
   "cell_type": "code",
   "execution_count": 2,
   "id": "ab22fda2",
   "metadata": {},
   "outputs": [
    {
     "name": "stdout",
     "output_type": "stream",
     "text": [
      "1,3,5,7,9,11,13,15,17,19,21\n"
     ]
    }
   ],
   "source": [
    "n = 21\n",
    "for i in range(1, n, 2):\n",
    "    print(i, end=\",\")\n",
    "print(n)"
   ]
  },
  {
   "cell_type": "code",
   "execution_count": 3,
   "id": "dccbe14b",
   "metadata": {},
   "outputs": [
    {
     "name": "stdout",
     "output_type": "stream",
     "text": [
      "😀😁😂😃😄😅😆😇😈😉😊😋😌😍😎😏😐😑😒😓😔😕😖😗😘😙😚😛😜😝😞😟😠😡😢😣😤😥😦😧😨😩😪😫😬😭😮😯😰😱😲😳😴😵😶😷😸😹😺😻😼😽😾😿🙀🙁🙂🙃🙄🙅🙆🙇🙈🙉🙊🙋🙌🙍🙎🙏"
     ]
    }
   ],
   "source": [
    "low = int(\"1F600\", 16)\n",
    "high = int(\"1F64F\", 16)\n",
    "for i in range(low, high+1):\n",
    "    print(chr(i), end=\"\")"
   ]
  },
  {
   "cell_type": "code",
   "execution_count": 4,
   "id": "09c480ad",
   "metadata": {},
   "outputs": [
    {
     "name": "stdout",
     "output_type": "stream",
     "text": [
      " what is 6*3?18\n",
      "POGGG\n",
      "press q to quit:q\n"
     ]
    }
   ],
   "source": [
    "from random import randint\n",
    "while True:\n",
    "    a = randint(2, 10)\n",
    "    b = randint(2, 10)\n",
    "    product = a*b\n",
    "    answer = input(\" what is \" + str(a) + \"*\" + str(b) + \"?\" )\n",
    "    if int(answer) == product:\n",
    "        print(\"POGGG\")\n",
    "    else:\n",
    "        print(\"NOPE\")\n",
    "        \n",
    "    continue_response = input(\"press q to quit:\")\n",
    "    if continue_response == \"q\":\n",
    "        break\n",
    "    "
   ]
  },
  {
   "cell_type": "code",
   "execution_count": 5,
   "id": "93ad1eb8",
   "metadata": {},
   "outputs": [
    {
     "name": "stdout",
     "output_type": "stream",
     "text": [
      "5050\n",
      "True\n"
     ]
    }
   ],
   "source": [
    "n = 100\n",
    "sum_n = 0\n",
    "for i in range(n+1):\n",
    "    sum_n += i\n",
    "print(sum_n)\n",
    "print(sum_n == n*(n+1)/2)"
   ]
  },
  {
   "cell_type": "code",
   "execution_count": 6,
   "id": "641178d7",
   "metadata": {},
   "outputs": [
    {
     "name": "stdout",
     "output_type": "stream",
     "text": [
      "3.146567747182956\n"
     ]
    }
   ],
   "source": [
    "n = 3\n",
    "x = 0\n",
    "for i in range(100):\n",
    "    x -= 1/n\n",
    "    x += 1/(n+2)\n",
    "    n += 4\n",
    "print(4*(1 + x))"
   ]
  },
  {
   "cell_type": "code",
   "execution_count": null,
   "id": "43207032",
   "metadata": {},
   "outputs": [],
   "source": []
  }
 ],
 "metadata": {
  "kernelspec": {
   "display_name": "Python 3 (ipykernel)",
   "language": "python",
   "name": "python3"
  },
  "language_info": {
   "codemirror_mode": {
    "name": "ipython",
    "version": 3
   },
   "file_extension": ".py",
   "mimetype": "text/x-python",
   "name": "python",
   "nbconvert_exporter": "python",
   "pygments_lexer": "ipython3",
   "version": "3.10.3"
  }
 },
 "nbformat": 4,
 "nbformat_minor": 5
}
