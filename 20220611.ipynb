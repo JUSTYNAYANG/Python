{
  "nbformat": 4,
  "nbformat_minor": 0,
  "metadata": {
    "colab": {
      "name": "20220611.ipynb",
      "provenance": [],
      "authorship_tag": "ABX9TyNO77tjavexdEuJZr0CKqmK",
      "include_colab_link": true
    },
    "kernelspec": {
      "name": "python3",
      "display_name": "Python 3"
    },
    "language_info": {
      "name": "python"
    }
  },
  "cells": [
    {
      "cell_type": "markdown",
      "metadata": {
        "id": "view-in-github",
        "colab_type": "text"
      },
      "source": [
        "<a href=\"https://colab.research.google.com/github/JUSTYNAYANG/Python/blob/main/20220611.ipynb\" target=\"_parent\"><img src=\"https://colab.research.google.com/assets/colab-badge.svg\" alt=\"Open In Colab\"/></a>"
      ]
    },
    {
      "cell_type": "code",
      "execution_count": null,
      "metadata": {
        "colab": {
          "base_uri": "https://localhost:8080/"
        },
        "id": "NMw06l204Zt1",
        "outputId": "b662540a-5ea0-4a39-e685-a0162425640d"
      },
      "outputs": [
        {
          "output_type": "stream",
          "name": "stdout",
          "text": [
            "hello world\n"
          ]
        }
      ],
      "source": [
        "print(\"hello world\")"
      ]
    },
    {
      "cell_type": "markdown",
      "source": [
        ""
      ],
      "metadata": {
        "id": "wQ8ASTon5Fku"
      }
    },
    {
      "cell_type": "code",
      "source": [
        "import folium"
      ],
      "metadata": {
        "id": "r3He5zLP7jPd"
      },
      "execution_count": 3,
      "outputs": []
    },
    {
      "cell_type": "code",
      "source": [
        "m = folium.Map()"
      ],
      "metadata": {
        "id": "jjt_ZjaR7rgg"
      },
      "execution_count": 5,
      "outputs": []
    },
    {
      "cell_type": "code",
      "source": [
        "m"
      ],
      "metadata": {
        "colab": {
          "base_uri": "https://localhost:8080/",
          "height": 791
        },
        "id": "-exachIZ78su",
        "outputId": "515018b3-1cb8-4693-d949-90e37341f85e"
      },
      "execution_count": 6,
      "outputs": [
        {
          "output_type": "execute_result",
          "data": {
            "text/plain": [
              "<folium.folium.Map at 0x7f6c6c20e210>"
            ],
            "text/html": [
              "<div style=\"width:100%;\"><div style=\"position:relative;width:100%;height:0;padding-bottom:60%;\"><span style=\"color:#565656\">Make this Notebook Trusted to load map: File -> Trust Notebook</span><iframe srcdoc=\"&lt;!DOCTYPE html&gt;\n",
              "&lt;head&gt;    \n",
              "    &lt;meta http-equiv=&quot;content-type&quot; content=&quot;text/html; charset=UTF-8&quot; /&gt;\n",
              "    &lt;script&gt;L_PREFER_CANVAS=false; L_NO_TOUCH=false; L_DISABLE_3D=false;&lt;/script&gt;\n",
              "    &lt;script src=&quot;https://cdn.jsdelivr.net/npm/leaflet@1.4.0/dist/leaflet.js&quot;&gt;&lt;/script&gt;\n",
              "    &lt;script src=&quot;https://code.jquery.com/jquery-1.12.4.min.js&quot;&gt;&lt;/script&gt;\n",
              "    &lt;script src=&quot;https://maxcdn.bootstrapcdn.com/bootstrap/3.2.0/js/bootstrap.min.js&quot;&gt;&lt;/script&gt;\n",
              "    &lt;script src=&quot;https://cdnjs.cloudflare.com/ajax/libs/Leaflet.awesome-markers/2.0.2/leaflet.awesome-markers.js&quot;&gt;&lt;/script&gt;\n",
              "    &lt;link rel=&quot;stylesheet&quot; href=&quot;https://cdn.jsdelivr.net/npm/leaflet@1.4.0/dist/leaflet.css&quot;/&gt;\n",
              "    &lt;link rel=&quot;stylesheet&quot; href=&quot;https://maxcdn.bootstrapcdn.com/bootstrap/3.2.0/css/bootstrap.min.css&quot;/&gt;\n",
              "    &lt;link rel=&quot;stylesheet&quot; href=&quot;https://maxcdn.bootstrapcdn.com/bootstrap/3.2.0/css/bootstrap-theme.min.css&quot;/&gt;\n",
              "    &lt;link rel=&quot;stylesheet&quot; href=&quot;https://maxcdn.bootstrapcdn.com/font-awesome/4.6.3/css/font-awesome.min.css&quot;/&gt;\n",
              "    &lt;link rel=&quot;stylesheet&quot; href=&quot;https://cdnjs.cloudflare.com/ajax/libs/Leaflet.awesome-markers/2.0.2/leaflet.awesome-markers.css&quot;/&gt;\n",
              "    &lt;link rel=&quot;stylesheet&quot; href=&quot;https://rawcdn.githack.com/python-visualization/folium/master/folium/templates/leaflet.awesome.rotate.css&quot;/&gt;\n",
              "    &lt;style&gt;html, body {width: 100%;height: 100%;margin: 0;padding: 0;}&lt;/style&gt;\n",
              "    &lt;style&gt;#map {position:absolute;top:0;bottom:0;right:0;left:0;}&lt;/style&gt;\n",
              "    \n",
              "    &lt;meta name=&quot;viewport&quot; content=&quot;width=device-width,\n",
              "        initial-scale=1.0, maximum-scale=1.0, user-scalable=no&quot; /&gt;\n",
              "    &lt;style&gt;#map_3b7651502e7cabf60488cde1341d3df3 {\n",
              "        position: relative;\n",
              "        width: 100.0%;\n",
              "        height: 100.0%;\n",
              "        left: 0.0%;\n",
              "        top: 0.0%;\n",
              "        }\n",
              "    &lt;/style&gt;\n",
              "&lt;/head&gt;\n",
              "&lt;body&gt;    \n",
              "    \n",
              "    &lt;div class=&quot;folium-map&quot; id=&quot;map_3b7651502e7cabf60488cde1341d3df3&quot; &gt;&lt;/div&gt;\n",
              "&lt;/body&gt;\n",
              "&lt;script&gt;    \n",
              "    \n",
              "    \n",
              "        var bounds = null;\n",
              "    \n",
              "\n",
              "    var map_3b7651502e7cabf60488cde1341d3df3 = L.map(\n",
              "        &#x27;map_3b7651502e7cabf60488cde1341d3df3&#x27;, {\n",
              "        center: [0, 0],\n",
              "        zoom: 1,\n",
              "        maxBounds: bounds,\n",
              "        layers: [],\n",
              "        worldCopyJump: false,\n",
              "        crs: L.CRS.EPSG3857,\n",
              "        zoomControl: true,\n",
              "        });\n",
              "\n",
              "\n",
              "    \n",
              "    var tile_layer_c25b604b70a8d219a1c4a0bda2ff6a05 = L.tileLayer(\n",
              "        &#x27;https://{s}.tile.openstreetmap.org/{z}/{x}/{y}.png&#x27;,\n",
              "        {\n",
              "        &quot;attribution&quot;: null,\n",
              "        &quot;detectRetina&quot;: false,\n",
              "        &quot;maxNativeZoom&quot;: 18,\n",
              "        &quot;maxZoom&quot;: 18,\n",
              "        &quot;minZoom&quot;: 0,\n",
              "        &quot;noWrap&quot;: false,\n",
              "        &quot;opacity&quot;: 1,\n",
              "        &quot;subdomains&quot;: &quot;abc&quot;,\n",
              "        &quot;tms&quot;: false\n",
              "}).addTo(map_3b7651502e7cabf60488cde1341d3df3);\n",
              "&lt;/script&gt;\" style=\"position:absolute;width:100%;height:100%;left:0;top:0;border:none !important;\" allowfullscreen webkitallowfullscreen mozallowfullscreen></iframe></div></div>"
            ]
          },
          "metadata": {},
          "execution_count": 6
        }
      ]
    },
    {
      "cell_type": "code",
      "source": [
        ""
      ],
      "metadata": {
        "id": "3pxMtSEv791P"
      },
      "execution_count": null,
      "outputs": []
    }
  ]
}