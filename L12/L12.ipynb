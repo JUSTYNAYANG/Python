{
 "cells": [
  {
   "cell_type": "code",
   "execution_count": 3,
   "id": "67576127",
   "metadata": {},
   "outputs": [],
   "source": [
    "def print_number():\n",
    "    for x in range(11):\n",
    "        print(x)"
   ]
  },
  {
   "cell_type": "code",
   "execution_count": 4,
   "id": "6871ced2",
   "metadata": {},
   "outputs": [
    {
     "name": "stdout",
     "output_type": "stream",
     "text": [
      "0\n",
      "1\n",
      "2\n",
      "3\n",
      "4\n",
      "5\n",
      "6\n",
      "7\n",
      "8\n",
      "9\n",
      "10\n"
     ]
    }
   ],
   "source": [
    "print_number()"
   ]
  },
  {
   "cell_type": "code",
   "execution_count": 8,
   "id": "d702fb08",
   "metadata": {},
   "outputs": [],
   "source": [
    "def print_numbers_up_to(n):\n",
    "    for x in range(n+1):\n",
    "        print(x)"
   ]
  },
  {
   "cell_type": "code",
   "execution_count": 9,
   "id": "6967df8a",
   "metadata": {},
   "outputs": [
    {
     "name": "stdout",
     "output_type": "stream",
     "text": [
      "0\n",
      "1\n",
      "2\n",
      "3\n",
      "4\n",
      "5\n",
      "6\n",
      "7\n",
      "8\n"
     ]
    }
   ],
   "source": [
    "print_numbers_up_to(8)"
   ]
  },
  {
   "cell_type": "code",
   "execution_count": 13,
   "id": "80f424f4",
   "metadata": {},
   "outputs": [],
   "source": [
    "def print_numbers_between(a, b):\n",
    "    for x in range(a, b+1):\n",
    "        print(x)"
   ]
  },
  {
   "cell_type": "code",
   "execution_count": 14,
   "id": "93db40e9",
   "metadata": {},
   "outputs": [
    {
     "name": "stdout",
     "output_type": "stream",
     "text": [
      "4\n",
      "5\n",
      "6\n",
      "7\n"
     ]
    }
   ],
   "source": [
    "print_numbers_between(4, 7)"
   ]
  },
  {
   "cell_type": "code",
   "execution_count": 22,
   "id": "e0b8bd84",
   "metadata": {},
   "outputs": [],
   "source": [
    "def print_even_numbers_between(a, b):\n",
    "    if a%2 == 0:\n",
    "        aa = a\n",
    "    elif a%2 == 1:\n",
    "        aa = a+1\n",
    "    for x in range(aa, b+1, 2):\n",
    "        print(x)"
   ]
  },
  {
   "cell_type": "code",
   "execution_count": 24,
   "id": "26966b05",
   "metadata": {},
   "outputs": [
    {
     "name": "stdout",
     "output_type": "stream",
     "text": [
      "2\n",
      "4\n",
      "6\n",
      "8\n",
      "10\n",
      "12\n",
      "14\n",
      "16\n",
      "18\n",
      "20\n",
      "22\n",
      "24\n"
     ]
    }
   ],
   "source": [
    "print_even_numbers_between(2, 25)"
   ]
  },
  {
   "cell_type": "code",
   "execution_count": 41,
   "id": "1d306708",
   "metadata": {},
   "outputs": [],
   "source": [
    "food = [\"ice cream\", \"spaghetti\", \"watermelon\", \"french fries\"]"
   ]
  },
  {
   "cell_type": "code",
   "execution_count": 29,
   "id": "bf99032a",
   "metadata": {},
   "outputs": [],
   "source": [
    "def print_list(any_list):\n",
    "    for x in range(len(any_list)):\n",
    "        print(any_list[x])"
   ]
  },
  {
   "cell_type": "code",
   "execution_count": 42,
   "id": "9bf79038",
   "metadata": {},
   "outputs": [
    {
     "name": "stdout",
     "output_type": "stream",
     "text": [
      "ice cream\n",
      "spaghetti\n",
      "watermelon\n",
      "french fries\n"
     ]
    }
   ],
   "source": [
    "print_list(food)"
   ]
  },
  {
   "cell_type": "code",
   "execution_count": 38,
   "id": "47358bc5",
   "metadata": {},
   "outputs": [],
   "source": [
    "random = [\"lion\", \"shoe\", \"fox\", \"demon\", \"book\"]\n",
    "hehe = [\"police\", \"cat\", \"dj\", \"cyborg\", \"psychic\"]"
   ]
  },
  {
   "cell_type": "code",
   "execution_count": 36,
   "id": "3dc75b81",
   "metadata": {},
   "outputs": [],
   "source": [
    "def print_first_half_of_list(list_name):\n",
    "    for x in range(round(len(list_name)/2)):\n",
    "        print(list_name[x])"
   ]
  },
  {
   "cell_type": "code",
   "execution_count": 37,
   "id": "58102741",
   "metadata": {},
   "outputs": [
    {
     "name": "stdout",
     "output_type": "stream",
     "text": [
      "lion\n",
      "shoe\n"
     ]
    }
   ],
   "source": [
    "print_first_half_of_list(random)"
   ]
  },
  {
   "cell_type": "code",
   "execution_count": 39,
   "id": "6f5e6e77",
   "metadata": {},
   "outputs": [],
   "source": [
    "def print_second_half_of_list(list_name):\n",
    "    for x in range(round(len(list_name)/2), len(list_name)):\n",
    "        print(list_name[x])"
   ]
  },
  {
   "cell_type": "code",
   "execution_count": 44,
   "id": "6226283c",
   "metadata": {},
   "outputs": [
    {
     "name": "stdout",
     "output_type": "stream",
     "text": [
      "dj\n",
      "cyborg\n",
      "psychic\n"
     ]
    }
   ],
   "source": [
    "print_second_half_of_list(hehe)"
   ]
  },
  {
   "cell_type": "code",
   "execution_count": 55,
   "id": "009f9c62",
   "metadata": {},
   "outputs": [],
   "source": [
    "floats = [0.87, 8.1234, 43.2213, 243.1234]\n",
    "numbers = [23, 3, 11, 8, 22, 6, 21, 15, 24, 16]"
   ]
  },
  {
   "cell_type": "code",
   "execution_count": 59,
   "id": "67bd47df",
   "metadata": {},
   "outputs": [],
   "source": [
    "def rounded_numbers(listsss):\n",
    "    for x in range(len(listsss)):\n",
    "        print(round(listsss[x]))"
   ]
  },
  {
   "cell_type": "code",
   "execution_count": 60,
   "id": "e4160a7b",
   "metadata": {},
   "outputs": [
    {
     "name": "stdout",
     "output_type": "stream",
     "text": [
      "1\n",
      "8\n",
      "43\n",
      "243\n"
     ]
    }
   ],
   "source": [
    "rounded_numbers(floats)"
   ]
  },
  {
   "cell_type": "code",
   "execution_count": 93,
   "id": "991ae982",
   "metadata": {},
   "outputs": [],
   "source": [
    "def reverse(lists):\n",
    "    for x in range(len(lists)):\n",
    "        print(lists[len(lists)-1-x])"
   ]
  },
  {
   "cell_type": "code",
   "execution_count": 94,
   "id": "544e8270",
   "metadata": {},
   "outputs": [
    {
     "name": "stdout",
     "output_type": "stream",
     "text": [
      "16\n",
      "24\n",
      "15\n",
      "21\n",
      "6\n",
      "22\n",
      "8\n",
      "11\n",
      "3\n",
      "23\n"
     ]
    }
   ],
   "source": [
    "reverse(numbers)"
   ]
  },
  {
   "cell_type": "code",
   "execution_count": 67,
   "id": "7c17c8d6",
   "metadata": {},
   "outputs": [],
   "source": [
    "def squares(listss):\n",
    "    for x in range(len(listss)):\n",
    "        print(listss[x]**2)"
   ]
  },
  {
   "cell_type": "code",
   "execution_count": 68,
   "id": "a932ac40",
   "metadata": {},
   "outputs": [
    {
     "name": "stdout",
     "output_type": "stream",
     "text": [
      "529\n",
      "9\n",
      "121\n",
      "64\n",
      "484\n",
      "36\n",
      "441\n",
      "225\n",
      "576\n",
      "256\n"
     ]
    }
   ],
   "source": [
    "squares(numbers)"
   ]
  },
  {
   "cell_type": "code",
   "execution_count": 50,
   "id": "b503aa56",
   "metadata": {},
   "outputs": [],
   "source": [
    "def print_element_in_list(any_list,element):\n",
    "    for x in range(len(any_list)):\n",
    "        if any_list[x] == element:\n",
    "            print(any_list[x])"
   ]
  },
  {
   "cell_type": "code",
   "execution_count": 51,
   "id": "c422b904",
   "metadata": {},
   "outputs": [
    {
     "name": "stdout",
     "output_type": "stream",
     "text": [
      "0.87\n"
     ]
    }
   ],
   "source": [
    "print_element_in_list(floats, 0.87)"
   ]
  },
  {
   "cell_type": "code",
   "execution_count": 96,
   "id": "189a29c2",
   "metadata": {},
   "outputs": [],
   "source": [
    "# def indices(list_name, element):\n",
    "#     for i in range:\n",
    "#         pass"
   ]
  },
  {
   "cell_type": "code",
   "execution_count": 79,
   "id": "ad6210d6",
   "metadata": {},
   "outputs": [],
   "source": [
    "from random import randint\n",
    "def roll_die(sides):\n",
    "    num = randint(1,sides)\n",
    "    print(num)"
   ]
  },
  {
   "cell_type": "code",
   "execution_count": 80,
   "id": "d2954335",
   "metadata": {},
   "outputs": [
    {
     "name": "stdout",
     "output_type": "stream",
     "text": [
      "5\n"
     ]
    }
   ],
   "source": [
    "roll_die(29)"
   ]
  },
  {
   "cell_type": "code",
   "execution_count": 89,
   "id": "ba6b152d",
   "metadata": {},
   "outputs": [],
   "source": [
    "def is_in_list(list_name, element):\n",
    "    for i in range(len(list_name)):\n",
    "        if list_name[i] == element:\n",
    "            return True\n",
    "    return False"
   ]
  },
  {
   "cell_type": "code",
   "execution_count": 90,
   "id": "9cec7d59",
   "metadata": {},
   "outputs": [
    {
     "data": {
      "text/plain": [
       "True"
      ]
     },
     "execution_count": 90,
     "metadata": {},
     "output_type": "execute_result"
    }
   ],
   "source": [
    "is_in_list(numbers, 23)"
   ]
  },
  {
   "cell_type": "code",
   "execution_count": 91,
   "id": "a2cd02b3",
   "metadata": {},
   "outputs": [
    {
     "data": {
      "text/plain": [
       "True"
      ]
     },
     "execution_count": 91,
     "metadata": {},
     "output_type": "execute_result"
    }
   ],
   "source": [
    "23 in numbers"
   ]
  },
  {
   "cell_type": "code",
   "execution_count": null,
   "id": "e1b0079f",
   "metadata": {},
   "outputs": [],
   "source": []
  }
 ],
 "metadata": {
  "kernelspec": {
   "display_name": "Python 3",
   "language": "python",
   "name": "python3"
  },
  "language_info": {
   "codemirror_mode": {
    "name": "ipython",
    "version": 3
   },
   "file_extension": ".py",
   "mimetype": "text/x-python",
   "name": "python",
   "nbconvert_exporter": "python",
   "pygments_lexer": "ipython3",
   "version": "3.8.8"
  }
 },
 "nbformat": 4,
 "nbformat_minor": 5
}
