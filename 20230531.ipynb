{
  "nbformat": 4,
  "nbformat_minor": 0,
  "metadata": {
    "colab": {
      "provenance": [],
      "authorship_tag": "ABX9TyNnSXZY46zVWB2x14nOAEFW",
      "include_colab_link": true
    },
    "kernelspec": {
      "name": "python3",
      "display_name": "Python 3"
    },
    "language_info": {
      "name": "python"
    }
  },
  "cells": [
    {
      "cell_type": "markdown",
      "metadata": {
        "id": "view-in-github",
        "colab_type": "text"
      },
      "source": [
        "<a href=\"https://colab.research.google.com/github/JUSTYNAYANG/Python/blob/main/20230531.ipynb\" target=\"_parent\"><img src=\"https://colab.research.google.com/assets/colab-badge.svg\" alt=\"Open In Colab\"/></a>"
      ]
    },
    {
      "cell_type": "markdown",
      "source": [
        "#Microbit Mooncar Color Detection"
      ],
      "metadata": {
        "id": "8lU2wggMzrpf"
      }
    },
    {
      "cell_type": "markdown",
      "source": [
        "the code for the color detection in microbit mooncar\n",
        "color.py\n",
        "\n",
        "```python\n",
        "from microbit import *\n",
        "\n",
        "def init_i2c():\n",
        "    i2c.init()\n",
        "    sensors = i2c.scan()\n",
        "    return sensors\n",
        "\n",
        "\n",
        "def setup(sensor):\n",
        "    i2c.write(sensor, bytes([0x81, 0xfc]))\n",
        "    i2c.write(sensor, bytes([0x80, 0x03]))\n",
        "\n",
        "\n",
        "def light_on():\n",
        "    # 打開補光燈\n",
        "    pin11.set_pull(pin11.PULL_DOWN)\n",
        "\n",
        "def light_off():\n",
        "    pin11.set_pull(pin11.PULL_UP)\n",
        "\n",
        "\n",
        "def read_color(sensor):\n",
        "        \n",
        "    i2c.write(sensor, bytes([178]))\n",
        "    i2c.write(sensor, bytes([179]))\n",
        "    i2c.write(sensor, bytes([182]), True)\n",
        "    R = int.from_bytes(i2c.read(sensor, 2), 'big')\n",
        "    R = int(R/65536*255)\n",
        "    i2c.write(sensor, bytes([184]), True)\n",
        "    G = int.from_bytes(i2c.read(sensor, 2), 'big')\n",
        "    G = int(G/65536*255)\n",
        "    i2c.write(sensor, bytes([186]), True)\n",
        "    B = int.from_bytes(i2c.read(sensor, 2), 'big')\n",
        "    B = int(B/65536*255)\n",
        "\n",
        "    return R, G, B\n",
        "\n",
        "```"
      ],
      "metadata": {
        "id": "ox9Qpbm80CPM"
      }
    },
    {
      "cell_type": "markdown",
      "source": [
        "how to show colors in mooncar\n",
        "```python\n",
        "import neopixel\n",
        "np = neopixel.NeoPixel(pin12, 8)\n",
        "\n",
        "np.fill((225, 0, 0))\n",
        "np.show()\n",
        "\n",
        "```"
      ],
      "metadata": {
        "id": "cLnp-sZf1U32"
      }
    },
    {
      "cell_type": "markdown",
      "source": [
        "detecting color and manipulating the lights to show the color detected\n",
        "\n",
        "```python\n",
        "\n",
        "from microbit import *\n",
        "import colors\n",
        "import neopixel\n",
        "\n",
        "sensors = colors.init_i2c()\n",
        "sensor = sensors[0]\n",
        "colors.setup(sensor)\n",
        "np = neopixel.NeoPixel(pin12, 8)\n",
        "\n",
        "\n",
        "while True:\n",
        "    #reads the color\n",
        "    colors.light_on()\n",
        "    sleep(1000)\n",
        "    print(colors.read_color(sensor))\n",
        "    color = colors.read_color(sensor) \n",
        "    np.fill(color)\n",
        "    np.show()\n",
        "    #stop reading\n",
        "    colors.light_off()\n",
        "    sleep(1000)\n",
        "```"
      ],
      "metadata": {
        "id": "Cgu0Osu-zvpy"
      }
    }
  ]
}