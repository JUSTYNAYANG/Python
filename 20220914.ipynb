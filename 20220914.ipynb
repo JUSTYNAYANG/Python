{
  "nbformat": 4,
  "nbformat_minor": 0,
  "metadata": {
    "colab": {
      "provenance": [],
      "authorship_tag": "ABX9TyM4DwQKOufpU6WT2no7AuZC",
      "include_colab_link": true
    },
    "kernelspec": {
      "name": "python3",
      "display_name": "Python 3"
    },
    "language_info": {
      "name": "python"
    }
  },
  "cells": [
    {
      "cell_type": "markdown",
      "metadata": {
        "id": "view-in-github",
        "colab_type": "text"
      },
      "source": [
        "<a href=\"https://colab.research.google.com/github/JUSTYNAYANG/Python/blob/main/20220914.ipynb\" target=\"_parent\"><img src=\"https://colab.research.google.com/assets/colab-badge.svg\" alt=\"Open In Colab\"/></a>"
      ]
    },
    {
      "cell_type": "markdown",
      "source": [
        "# Mircobit"
      ],
      "metadata": {
        "id": "F5Y60hoJLnSS"
      }
    },
    {
      "cell_type": "code",
      "source": [
        "# previous falling game\n",
        "\n",
        "from microbit import *\n",
        "import random\n",
        "import music\n",
        "\n",
        "x = 2\n",
        "y = 4\n",
        "\n",
        "def new_row():\n",
        "    a = [\"0\"]*5\n",
        "    a[random.randint(0,4)] = \"9\"\n",
        "    return \"\".join(a)\n",
        "\n",
        "led = [\"00000\"] * 5\n",
        "\n",
        "display.set_pixel(x, y, 9)\n",
        "\n",
        "delay = 10000\n",
        "counter = 0\n",
        "\n",
        "\n",
        "while True:\n",
        "    #display image\n",
        "    if counter > delay:\n",
        "        display.show(Image(\":\".join(led)))\n",
        "        led.insert(0, new_row())\n",
        "        row = led.pop()\n",
        "        display.set_pixel(x, y, 9)\n",
        "        if row[x] == \"9\":\n",
        "            music.play(music.BA_DING)\n",
        "        else:\n",
        "            if \"9\" in row:\n",
        "                music.play(music.JUMP_DOWN)\n",
        "        counter -= delay\n",
        "        delay -= 1\n",
        "    \n",
        "    #control movement\n",
        "    if button_a.was_pressed():\n",
        "        display.set_pixel(x, y, 0)\n",
        "        x -= 1\n",
        "        if x < 0:\n",
        "            x = 0\n",
        "        display.set_pixel(x, y, 9)\n",
        "    if button_b.was_pressed():\n",
        "        display.set_pixel(x, y, 0)\n",
        "        x += 1\n",
        "        if x > 4:\n",
        "            x = 4 \n",
        "        display.set_pixel(x, y, 9)\n",
        "\n",
        "    counter += 1"
      ],
      "metadata": {
        "id": "K35ING47-o_z"
      },
      "execution_count": null,
      "outputs": []
    },
    {
      "cell_type": "code",
      "source": [
        "#spinning game\n",
        "\n",
        "from microbit import *\n",
        "import music\n",
        "\n",
        "x0 = 2\n",
        "y0 = 0\n",
        "\n",
        "display.set_pixel(x0, y0, 9)\n",
        "\n",
        "x = 0\n",
        "y = 0\n",
        "\n",
        "spin = False\n",
        "xstep = 0\n",
        "ystep = 0\n",
        "\n",
        "while True:\n",
        "    display.set_pixel(x, y, 9)\n",
        "    if button_a.was_pressed():\n",
        "        spin = True       \n",
        "    if button_b.was_pressed():\n",
        "        spin = False\n",
        "        if x == x0 and y == y0:\n",
        "            music.play(music.JUMP_UP)\n",
        "        else:\n",
        "            music.play(music.JUMP_DOWN)\n",
        "\n",
        "    if spin == True:\n",
        "        if x == 0 and y == 0:\n",
        "            xstep = 1\n",
        "            ystep = 0\n",
        "        elif x == 4 and y == 0:\n",
        "            xstep = 0\n",
        "            ystep = 1\n",
        "        elif x == 4 and y == 4:\n",
        "            xstep = -1\n",
        "            ystep = 0\n",
        "        elif x == 0 and y == 4:\n",
        "            xstep = 0\n",
        "            ystep = -1\n",
        "\n",
        "        sleep(50)\n",
        "    \n",
        "        display.set_pixel(x, y, 0)\n",
        "        display.set_pixel(x0, y0, 9)\n",
        "        \n",
        "        x += xstep\n",
        "        y += ystep\n",
        "\n"
      ],
      "metadata": {
        "id": "riFKRLRcEQ-V"
      },
      "execution_count": null,
      "outputs": []
    },
    {
      "cell_type": "code",
      "source": [
        "# spinning game modified\n",
        "\n",
        "from microbit import *\n",
        "import music\n",
        "\n",
        "x0 = 2\n",
        "y0 = 0\n",
        "\n",
        "display.set_pixel(x0, y0, 9)\n",
        "\n",
        "x = 0\n",
        "y = 0\n",
        "\n",
        "spin = False\n",
        "xstep = 0\n",
        "ystep = 0\n",
        "\n",
        "success = 0\n",
        "fail = 0\n",
        "\n",
        "while True:\n",
        "    display.set_pixel(x, y, 9)\n",
        "    if button_a.was_pressed():\n",
        "        spin = True       \n",
        "    if button_b.was_pressed():\n",
        "        spin = False\n",
        "        if x == x0 and y == y0:\n",
        "            music.play(music.JUMP_UP)\n",
        "            success += 1\n",
        "        else:\n",
        "            music.play(music.JUMP_DOWN)\n",
        "            fail += 1\n",
        "\n",
        "    if spin == True:\n",
        "        if x == 0 and y == 0:\n",
        "            xstep = 1\n",
        "            ystep = 0\n",
        "        elif x == 4 and y == 0:\n",
        "            xstep = 0\n",
        "            ystep = 1\n",
        "        elif x == 4 and y == 4:\n",
        "            xstep = -1\n",
        "            ystep = 0\n",
        "        elif x == 0 and y == 4:\n",
        "            xstep = 0\n",
        "            ystep = -1\n",
        "\n",
        "        # music.pitch(1000, 10)\n",
        "        sleep(50)\n",
        "    \n",
        "        display.set_pixel(x, y, 0)\n",
        "        display.set_pixel(x0, y0, 9)\n",
        "        \n",
        "        x += xstep\n",
        "        y += ystep\n",
        "    \n",
        "    if pin_logo.is_touched():\n",
        "        display.scroll(\"{} : {}\".format(success, fail))"
      ],
      "metadata": {
        "id": "DUgthY3KHsdB"
      },
      "execution_count": null,
      "outputs": []
    },
    {
      "cell_type": "markdown",
      "source": [
        "# practice"
      ],
      "metadata": {
        "id": "PVMa7mrtLpkr"
      }
    },
    {
      "cell_type": "code",
      "source": [
        "x = list('abcde')"
      ],
      "metadata": {
        "id": "E50ZU7ZPLrxE"
      },
      "execution_count": 2,
      "outputs": []
    },
    {
      "cell_type": "code",
      "source": [
        "x"
      ],
      "metadata": {
        "colab": {
          "base_uri": "https://localhost:8080/"
        },
        "id": "wn0wpxeeMIWB",
        "outputId": "7af8c2a9-aa44-417e-d492-f1e7b17fdefc"
      },
      "execution_count": 3,
      "outputs": [
        {
          "output_type": "execute_result",
          "data": {
            "text/plain": [
              "['a', 'b', 'c', 'd', 'e']"
            ]
          },
          "metadata": {},
          "execution_count": 3
        }
      ]
    }
  ]
}