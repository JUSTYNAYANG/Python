{
  "nbformat": 4,
  "nbformat_minor": 0,
  "metadata": {
    "colab": {
      "name": "20220824.ipynb",
      "provenance": [],
      "authorship_tag": "ABX9TyPhH4A3oM4S+yU+y6nZqZt+",
      "include_colab_link": true
    },
    "kernelspec": {
      "name": "python3",
      "display_name": "Python 3"
    },
    "language_info": {
      "name": "python"
    }
  },
  "cells": [
    {
      "cell_type": "markdown",
      "metadata": {
        "id": "view-in-github",
        "colab_type": "text"
      },
      "source": [
        "<a href=\"https://colab.research.google.com/github/JUSTYNAYANG/Python/blob/main/20220824.ipynb\" target=\"_parent\"><img src=\"https://colab.research.google.com/assets/colab-badge.svg\" alt=\"Open In Colab\"/></a>"
      ]
    },
    {
      "cell_type": "code",
      "execution_count": 1,
      "metadata": {
        "id": "HrO-jXYn4VbZ"
      },
      "outputs": [],
      "source": [
        "# more microbit today"
      ]
    },
    {
      "cell_type": "code",
      "source": [
        "# from microbit import *\n",
        "# import random\n",
        "# import music"
      ],
      "metadata": {
        "id": "2VSEvVq64bt1"
      },
      "execution_count": 2,
      "outputs": []
    },
    {
      "cell_type": "code",
      "source": [
        "# while True:\n",
        "#     if accelerometer.was_gesture('shake'):\n",
        "#         number = random.randint(1, 3)\n",
        "#         if number == 1:\n",
        "#             display.show(Image('00900:'\n",
        "#                                '00900:'\n",
        "#                                '99999:'\n",
        "#                                '09999:'\n",
        "#                                '09900:'))\n",
        "#         elif number == 2:\n",
        "#             display.show(Image('00000:'\n",
        "#                                 '09990:'\n",
        "#                                 '09990:'\n",
        "#                                 '09990:'\n",
        "#                                 '00000:'))\n",
        "#         elif number == 3:\n",
        "#             display.show(Image('99999:'\n",
        "#                                 '99999:'\n",
        "#                                 '99999:'\n",
        "#                                 '99999:'\n",
        "#                                 '99999:'))"
      ],
      "metadata": {
        "id": "sBs6L3hR4Z8R"
      },
      "execution_count": 3,
      "outputs": []
    },
    {
      "cell_type": "code",
      "source": [
        "x = ('00300:'\n",
        "    '03630:'\n",
        "    '36963:'\n",
        "    '03630:'\n",
        "    '00300:')"
      ],
      "metadata": {
        "id": "flxyD-PD4_2C"
      },
      "execution_count": 8,
      "outputs": []
    },
    {
      "cell_type": "code",
      "source": [
        "x"
      ],
      "metadata": {
        "colab": {
          "base_uri": "https://localhost:8080/",
          "height": 35
        },
        "id": "zVVHEXp15stf",
        "outputId": "dd9822e5-d373-4aa2-8fa0-e4620cb0fe65"
      },
      "execution_count": 7,
      "outputs": [
        {
          "output_type": "execute_result",
          "data": {
            "text/plain": [
              "'00300:03630:36963:03630:00300:'"
            ],
            "application/vnd.google.colaboratory.intrinsic+json": {
              "type": "string"
            }
          },
          "metadata": {},
          "execution_count": 7
        }
      ]
    },
    {
      "cell_type": "code",
      "source": [
        "25//4"
      ],
      "metadata": {
        "colab": {
          "base_uri": "https://localhost:8080/"
        },
        "id": "23BH5rAP8aJ1",
        "outputId": "21ec8fc6-a966-4d84-dbf4-a47f20827b16"
      },
      "execution_count": 35,
      "outputs": [
        {
          "output_type": "execute_result",
          "data": {
            "text/plain": [
              "6"
            ]
          },
          "metadata": {},
          "execution_count": 35
        }
      ]
    },
    {
      "cell_type": "code",
      "source": [
        "25%4"
      ],
      "metadata": {
        "colab": {
          "base_uri": "https://localhost:8080/"
        },
        "id": "hFupw2eC8c0S",
        "outputId": "8e7c07aa-4f79-4bec-e038-aa312156a54e"
      },
      "execution_count": 34,
      "outputs": [
        {
          "output_type": "execute_result",
          "data": {
            "text/plain": [
              "1"
            ]
          },
          "metadata": {},
          "execution_count": 34
        }
      ]
    },
    {
      "cell_type": "code",
      "source": [
        "# # making a memory game\n",
        "# position = 12\n",
        "# i = 0\n",
        "\n",
        "# while True:\n",
        "#     if i == 0:\n",
        "#         num = random.randint(1,25)\n",
        "#         numx = num%5\n",
        "#         numy = num//5%5\n",
        "#         display.set_pixel(numx, numy, 9)\n",
        "#         sleep(500)\n",
        "#         display.clear()\n",
        "#         sleep(500)\n",
        "#         i += 1\n",
        "#     elif i == 1:\n",
        "#         position = 12\n",
        "#         x = position%5\n",
        "#         y = position//5\n",
        "#         display.set_pixel(x, y, 9)\n",
        "#         i += 1\n",
        "#     if pin_logo.is_touched():\n",
        "#         x = position%5\n",
        "#         y = position//5%5\n",
        "#         if x == numx and y == numy:\n",
        "#             music.play(music.BA_DING)\n",
        "#             sleep(500)\n",
        "#             display.clear()\n",
        "#             sleep(500)\n",
        "#             i = 0\n",
        "#         else:\n",
        "#             music.play(music.BADDY)\n",
        "#     elif button_b.was_pressed():\n",
        "#         display.clear()\n",
        "#         position += 1\n",
        "#         x = position%5\n",
        "#         y = position//5%5\n",
        "#         display.set_pixel(x, y, 9)\n",
        "#     elif button_a.was_pressed():\n",
        "#         display.clear()\n",
        "#         position -= 1\n",
        "#         x = position%5\n",
        "#         y = position//5%5\n",
        "#         display.set_pixel(x, y, 9)"
      ],
      "metadata": {
        "id": "haOSEJsuFBDR"
      },
      "execution_count": 37,
      "outputs": []
    },
    {
      "cell_type": "markdown",
      "source": [
        "# list --> string"
      ],
      "metadata": {
        "id": "qpx5XVCD6OVj"
      }
    },
    {
      "cell_type": "code",
      "source": [
        "y = ['00300','03630','36963','03630','00300']"
      ],
      "metadata": {
        "id": "dsGxvWTu6N5s"
      },
      "execution_count": 26,
      "outputs": []
    },
    {
      "cell_type": "code",
      "source": [
        "y"
      ],
      "metadata": {
        "colab": {
          "base_uri": "https://localhost:8080/"
        },
        "id": "-529qb086X5h",
        "outputId": "103bf5ec-7ed6-4cb4-e679-933f0136889b"
      },
      "execution_count": 27,
      "outputs": [
        {
          "output_type": "execute_result",
          "data": {
            "text/plain": [
              "['00300', '03630', '36963', '03630', '00300']"
            ]
          },
          "metadata": {},
          "execution_count": 27
        }
      ]
    },
    {
      "cell_type": "code",
      "source": [
        "str(y)"
      ],
      "metadata": {
        "colab": {
          "base_uri": "https://localhost:8080/",
          "height": 35
        },
        "id": "tknVIxWb6cln",
        "outputId": "55f3a70c-f50f-4b20-a495-d4c546bd08d6"
      },
      "execution_count": 28,
      "outputs": [
        {
          "output_type": "execute_result",
          "data": {
            "text/plain": [
              "\"['00300', '03630', '36963', '03630', '00300']\""
            ],
            "application/vnd.google.colaboratory.intrinsic+json": {
              "type": "string"
            }
          },
          "metadata": {},
          "execution_count": 28
        }
      ]
    },
    {
      "cell_type": "code",
      "source": [
        "\":\".join(y)"
      ],
      "metadata": {
        "colab": {
          "base_uri": "https://localhost:8080/",
          "height": 35
        },
        "id": "vQo9XDjB6fI5",
        "outputId": "a3e0eb53-d4b0-4f94-e928-05af4b427f51"
      },
      "execution_count": 29,
      "outputs": [
        {
          "output_type": "execute_result",
          "data": {
            "text/plain": [
              "'00300:03630:36963:03630:00300'"
            ],
            "application/vnd.google.colaboratory.intrinsic+json": {
              "type": "string"
            }
          },
          "metadata": {},
          "execution_count": 29
        }
      ]
    }
  ]
}